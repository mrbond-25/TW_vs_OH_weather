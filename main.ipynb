{
 "cells": [
  {
   "cell_type": "code",
   "execution_count": 6,
   "id": "840e37f2",
   "metadata": {},
   "outputs": [],
   "source": [
    "import numpy as np\n",
    "import pandas as pd \n",
    "import matplotlib.pyplot as plt\n",
    "from sklearn.preprocessing import StandardScaler\n",
    "from sklearn.decomposition import PCA"
   ]
  },
  {
   "cell_type": "markdown",
   "id": "7546752f",
   "metadata": {},
   "source": [
    "### Load and Scale Datasets"
   ]
  },
  {
   "cell_type": "code",
   "execution_count": null,
   "id": "b2dc3d47",
   "metadata": {},
   "outputs": [],
   "source": [
    "#load dataset\n",
    "df = pd.read_csv('weather_data.csv')\n",
    "cols_to_scale = [col for col in df.columns if col not in ['Month', 'Month_Num', 'Location']]"
   ]
  },
  {
   "cell_type": "code",
   "execution_count": 23,
   "id": "abba0384",
   "metadata": {},
   "outputs": [],
   "source": [
    "#scale data\n",
    "df[cols_to_scale] = StandardScaler().fit_transform(df[cols_to_scale])"
   ]
  },
  {
   "cell_type": "markdown",
   "id": "226c56ae",
   "metadata": {},
   "source": [
    "### PCA"
   ]
  },
  {
   "cell_type": "code",
   "execution_count": null,
   "id": "f03a4c39",
   "metadata": {},
   "outputs": [],
   "source": [
    "#run PCA\n",
    "pca = PCA(n_components=2)\n",
    "principle_components = pca.fit_transform(df[cols_to_scale])\n",
    "df[\"PC1\"] = principle_components[:,0]\n",
    "df[\"PC2\"] = principle_components[:,1]"
   ]
  },
  {
   "cell_type": "code",
   "execution_count": null,
   "id": "a2e67f8c",
   "metadata": {},
   "outputs": [],
   "source": [
    "#calculate explained variance\n",
    "explained_variances = pca.explained_variance_ratio_\n",
    "total_explained = np.sum(explained_variances)"
   ]
  },
  {
   "cell_type": "markdown",
   "id": "a6b16b7e",
   "metadata": {},
   "source": [
    "### Neighbor Matching"
   ]
  },
  {
   "cell_type": "code",
   "execution_count": null,
   "id": "2b3c9073",
   "metadata": {},
   "outputs": [],
   "source": []
  }
 ],
 "metadata": {
  "kernelspec": {
   "display_name": "m56w25",
   "language": "python",
   "name": "python3"
  },
  "language_info": {
   "codemirror_mode": {
    "name": "ipython",
    "version": 3
   },
   "file_extension": ".py",
   "mimetype": "text/x-python",
   "name": "python",
   "nbconvert_exporter": "python",
   "pygments_lexer": "ipython3",
   "version": "3.12.2"
  }
 },
 "nbformat": 4,
 "nbformat_minor": 5
}
